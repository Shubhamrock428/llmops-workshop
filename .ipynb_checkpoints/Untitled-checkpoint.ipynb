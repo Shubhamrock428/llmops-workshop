{
 "cells": [
  {
   "cell_type": "code",
   "execution_count": null,
   "id": "04178826-db40-49ee-947a-23dee564e38e",
   "metadata": {},
   "outputs": [],
   "source": [
    "!streamlit run main_rag.py"
   ]
  },
  {
   "cell_type": "code",
   "execution_count": null,
   "id": "14bae0ff-9062-49ed-9ed6-34f0354bce9d",
   "metadata": {},
   "outputs": [],
   "source": []
  }
 ],
 "metadata": {
  "kernelspec": {
   "display_name": "Python 3 (ipykernel)",
   "language": "python",
   "name": "python3"
  },
  "language_info": {
   "codemirror_mode": {
    "name": "ipython",
    "version": 3
   },
   "file_extension": ".py",
   "mimetype": "text/x-python",
   "name": "python",
   "nbconvert_exporter": "python",
   "pygments_lexer": "ipython3",
   "version": "3.8.2"
  }
 },
 "nbformat": 4,
 "nbformat_minor": 5
}
